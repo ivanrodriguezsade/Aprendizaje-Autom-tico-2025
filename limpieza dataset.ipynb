{
 "cells": [
  {
   "cell_type": "code",
   "execution_count": 1,
   "id": "a2e90199-e91d-40e3-8ee5-69e7bb363a1f",
   "metadata": {},
   "outputs": [],
   "source": [
    "import pandas as pd"
   ]
  },
  {
   "cell_type": "code",
   "execution_count": 11,
   "id": "bea336f5-6491-47e5-8c42-db868d1f06f4",
   "metadata": {},
   "outputs": [
    {
     "data": {
      "text/html": [
       "<div>\n",
       "<style scoped>\n",
       "    .dataframe tbody tr th:only-of-type {\n",
       "        vertical-align: middle;\n",
       "    }\n",
       "\n",
       "    .dataframe tbody tr th {\n",
       "        vertical-align: top;\n",
       "    }\n",
       "\n",
       "    .dataframe thead th {\n",
       "        text-align: right;\n",
       "    }\n",
       "</style>\n",
       "<table border=\"1\" class=\"dataframe\">\n",
       "  <thead>\n",
       "    <tr style=\"text-align: right;\">\n",
       "      <th></th>\n",
       "      <th>Country Name</th>\n",
       "      <th>Country Code</th>\n",
       "      <th>2019</th>\n",
       "      <th>2020</th>\n",
       "      <th>2021</th>\n",
       "      <th>2022</th>\n",
       "      <th>2023</th>\n",
       "    </tr>\n",
       "  </thead>\n",
       "  <tbody>\n",
       "    <tr>\n",
       "      <th>0</th>\n",
       "      <td>Country Name</td>\n",
       "      <td>Country Code</td>\n",
       "      <td>2.019000e+03</td>\n",
       "      <td>2.020000e+03</td>\n",
       "      <td>2.021000e+03</td>\n",
       "      <td>2.022000e+03</td>\n",
       "      <td>2.023000e+03</td>\n",
       "    </tr>\n",
       "    <tr>\n",
       "      <th>1</th>\n",
       "      <td>Argentina</td>\n",
       "      <td>ARG</td>\n",
       "      <td>1.492100e+12</td>\n",
       "      <td>5.090000e+11</td>\n",
       "      <td>2.781000e+11</td>\n",
       "      <td>7.350000e+11</td>\n",
       "      <td>1.361300e+12</td>\n",
       "    </tr>\n",
       "    <tr>\n",
       "      <th>2</th>\n",
       "      <td>Brazil</td>\n",
       "      <td>BRA</td>\n",
       "      <td>8.961000e+11</td>\n",
       "      <td>2.279500e+12</td>\n",
       "      <td>1.978400e+12</td>\n",
       "      <td>1.322700e+12</td>\n",
       "      <td>1.234500e+12</td>\n",
       "    </tr>\n",
       "    <tr>\n",
       "      <th>3</th>\n",
       "      <td>United States</td>\n",
       "      <td>USA</td>\n",
       "      <td>2.164700e+12</td>\n",
       "      <td>6.277000e+11</td>\n",
       "      <td>6.323000e+11</td>\n",
       "      <td>1.705900e+12</td>\n",
       "      <td>1.531200e+12</td>\n",
       "    </tr>\n",
       "    <tr>\n",
       "      <th>4</th>\n",
       "      <td>China</td>\n",
       "      <td>CHN</td>\n",
       "      <td>8.600000e+09</td>\n",
       "      <td>1.491000e+11</td>\n",
       "      <td>1.204200e+12</td>\n",
       "      <td>2.200000e+12</td>\n",
       "      <td>9.592000e+11</td>\n",
       "    </tr>\n",
       "  </tbody>\n",
       "</table>\n",
       "</div>"
      ],
      "text/plain": [
       "    Country Name  Country Code          2019          2020          2021  \\\n",
       "0   Country Name  Country Code  2.019000e+03  2.020000e+03  2.021000e+03   \n",
       "1      Argentina           ARG  1.492100e+12  5.090000e+11  2.781000e+11   \n",
       "2         Brazil           BRA  8.961000e+11  2.279500e+12  1.978400e+12   \n",
       "3  United States           USA  2.164700e+12  6.277000e+11  6.323000e+11   \n",
       "4          China           CHN  8.600000e+09  1.491000e+11  1.204200e+12   \n",
       "\n",
       "           2022          2023  \n",
       "0  2.022000e+03  2.023000e+03  \n",
       "1  7.350000e+11  1.361300e+12  \n",
       "2  1.322700e+12  1.234500e+12  \n",
       "3  1.705900e+12  1.531200e+12  \n",
       "4  2.200000e+12  9.592000e+11  "
      ]
     },
     "execution_count": 11,
     "metadata": {},
     "output_type": "execute_result"
    }
   ],
   "source": [
    "import pandas as pd\n",
    "import os\n",
    "\n",
    "limpieza_datos = \"data/raw/pib_banco_mundial_50.csv\"\n",
    "\n",
    "# 1. Le dices a pandas que el separador es ';' y que no hay encabezado (header=None)\n",
    "df = pd.read_csv(limpieza_datos, sep=';', header=None)\n",
    "\n",
    "# 2. Asignas los nombres a las columnas de forma manual\n",
    "df.columns = ['Country Name', 'Country Code', '2019', '2020', '2021', '2022', '2023']\n",
    "\n",
    "# 3. Muestras las primeras filas para verificar que todo esté correcto\n",
    "df.head()"
   ]
  },
  {
   "cell_type": "code",
   "execution_count": 7,
   "id": "9a510841-1784-4d73-a6f5-3f413e728915",
   "metadata": {},
   "outputs": [
    {
     "data": {
      "text/plain": [
       "Country Name    0\n",
       "Country Code    0\n",
       "2019            0\n",
       "2020            0\n",
       "2021            0\n",
       "2022            0\n",
       "2023            0\n",
       "dtype: int64"
      ]
     },
     "execution_count": 7,
     "metadata": {},
     "output_type": "execute_result"
    }
   ],
   "source": [
    "df.isnull().sum()"
   ]
  },
  {
   "cell_type": "code",
   "execution_count": 8,
   "id": "22e3c524-bfba-4082-a0be-07c9be01ecdf",
   "metadata": {},
   "outputs": [
    {
     "name": "stdout",
     "output_type": "stream",
     "text": [
      "<class 'pandas.core.frame.DataFrame'>\n",
      "RangeIndex: 52 entries, 0 to 51\n",
      "Data columns (total 7 columns):\n",
      " #   Column        Non-Null Count  Dtype  \n",
      "---  ------        --------------  -----  \n",
      " 0   Country Name  52 non-null     object \n",
      " 1   Country Code  52 non-null     object \n",
      " 2   2019          52 non-null     float64\n",
      " 3   2020          52 non-null     float64\n",
      " 4   2021          52 non-null     float64\n",
      " 5   2022          52 non-null     float64\n",
      " 6   2023          52 non-null     float64\n",
      "dtypes: float64(5), object(2)\n",
      "memory usage: 3.0+ KB\n"
     ]
    }
   ],
   "source": [
    "# Verificar y corregir tipos de datos si es el caso.\n",
    "df.info()"
   ]
  },
  {
   "cell_type": "code",
   "execution_count": 9,
   "id": "6589147b-c560-4f48-9354-d40f50547677",
   "metadata": {},
   "outputs": [
    {
     "data": {
      "text/plain": [
       "np.int64(0)"
      ]
     },
     "execution_count": 9,
     "metadata": {},
     "output_type": "execute_result"
    }
   ],
   "source": [
    "# Contar el número de filas duplicadas\n",
    "df.duplicated().sum()"
   ]
  },
  {
   "cell_type": "code",
   "execution_count": 12,
   "id": "c405c838-2d8a-4716-b585-5db73c6481f4",
   "metadata": {},
   "outputs": [
    {
     "name": "stdout",
     "output_type": "stream",
     "text": [
      "Archivo limpio guardado en: data/processed\\pib_limpio.csv\n"
     ]
    }
   ],
   "source": [
    "# 2. Guardar el archivo limpio en la carpeta 'processed'\n",
    "archivo_limpio = 'data/processed'\n",
    "nombre_archivo = 'pib_limpio.csv'\n",
    "ruta_completa = os.path.join(archivo_limpio, 'pib_limpio.csv')\n",
    "\n",
    "df.to_csv(ruta_completa, index=False)\n",
    "\n",
    "print(f\"Archivo limpio guardado en: {ruta_completa}\")"
   ]
  },
  {
   "cell_type": "code",
   "execution_count": null,
   "id": "e453cc85-e109-4837-8f8f-c5f83a0fd143",
   "metadata": {},
   "outputs": [],
   "source": []
  }
 ],
 "metadata": {
  "kernelspec": {
   "display_name": "Python 3 (ipykernel)",
   "language": "python",
   "name": "python3"
  },
  "language_info": {
   "codemirror_mode": {
    "name": "ipython",
    "version": 3
   },
   "file_extension": ".py",
   "mimetype": "text/x-python",
   "name": "python",
   "nbconvert_exporter": "python",
   "pygments_lexer": "ipython3",
   "version": "3.13.5"
  }
 },
 "nbformat": 4,
 "nbformat_minor": 5
}
