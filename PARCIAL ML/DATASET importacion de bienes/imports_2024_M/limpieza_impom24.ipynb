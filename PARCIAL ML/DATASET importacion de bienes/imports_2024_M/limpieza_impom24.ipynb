{
 "cells": [
  {
   "cell_type": "markdown",
   "id": "f3f96740-6201-4314-ad92-d2055fa4041a",
   "metadata": {},
   "source": [
    "# CARGA INICIAL Y CONFIGURACION (importar archivo)"
   ]
  },
  {
   "cell_type": "code",
   "execution_count": 11,
   "id": "3a34fa03-9ac1-461a-b6a9-f8978fc12736",
   "metadata": {},
   "outputs": [
    {
     "name": "stdout",
     "output_type": "stream",
     "text": [
      "Carga de datos exitosa.\n",
      "\n",
      "Primeras 5 filas: \n",
      "    Año  mes      NCM  Porg  Pnet(kg)  FOB(USD)  Flete(USD)  Seguro(USD)  \\\n",
      "0  2024    1  1012100   200     500.0   6000.00     3500.00        47.50   \n",
      "1  2024    1  1012100   212    2500.0  19500.00    26000.01       455.01   \n",
      "2  2024    1  1012100   417     300.0  33490.76     3256.80       367.48   \n",
      "3  2024    1  1012900   200     450.0   5000.00     2500.00        75.00   \n",
      "4  2024    1  1012900   423    1000.0   9800.00     6513.60       168.27   \n",
      "\n",
      "   CIF(USD)  \n",
      "0   9547.50  \n",
      "1  45955.02  \n",
      "2  37115.04  \n",
      "3   7575.00  \n",
      "4  16481.87  \n",
      "n\\Informacion general del DataFrame: \n",
      "<class 'pandas.core.frame.DataFrame'>\n",
      "RangeIndex: 347874 entries, 0 to 347873\n",
      "Data columns (total 9 columns):\n",
      " #   Column       Non-Null Count   Dtype  \n",
      "---  ------       --------------   -----  \n",
      " 0   Año          347874 non-null  int64  \n",
      " 1   mes          347874 non-null  int64  \n",
      " 2   NCM          347874 non-null  int64  \n",
      " 3   Porg         347874 non-null  int64  \n",
      " 4   Pnet(kg)     347874 non-null  float64\n",
      " 5   FOB(USD)     347874 non-null  float64\n",
      " 6   Flete(USD)   347874 non-null  float64\n",
      " 7   Seguro(USD)  347874 non-null  float64\n",
      " 8   CIF(USD)     347874 non-null  float64\n",
      "dtypes: float64(5), int64(4)\n",
      "memory usage: 23.9 MB\n"
     ]
    }
   ],
   "source": [
    "import pandas as pd\n",
    "import numpy as np\n",
    "\n",
    "try:\n",
    "    df = pd.read_csv('impom24.csv', sep=';', decimal=',', encoding='latin-1')\n",
    "    print(\"Carga de datos exitosa.\")\n",
    "    print(\"\\nPrimeras 5 filas: \")\n",
    "    print(df.head())\n",
    "    print(\"n\\Informacion general del DataFrame: \")\n",
    "    df.info()\n",
    "except FileNotFoundError:\n",
    "    print(\"Error: Asegurate que la ruta del archivo CSV es correcta y que estas usando el archivo de datos.\")"
   ]
  },
  {
   "cell_type": "markdown",
   "id": "6e678c9f-fb47-4752-929c-5ba8f4b6557c",
   "metadata": {},
   "source": [
    "# INSPECCION Y ESTANDARIZACION DE COLUMNAS\n",
    "## a-Renombrar columnas clave"
   ]
  },
  {
   "cell_type": "code",
   "execution_count": 12,
   "id": "587ecd11-ccf0-4421-ad43-dc87d8f54872",
   "metadata": {},
   "outputs": [
    {
     "name": "stdout",
     "output_type": "stream",
     "text": [
      "Columnas renombradas:\n",
      "['Año', 'mes', 'NCM_8_digitos', 'Pais_Origen_Cod', 'Peso_Neto_kg', 'FOB(USD)', 'Flete(USD)', 'Seguro(USD)', 'CIF(USD)']\n"
     ]
    }
   ],
   "source": [
    "# Mapeo de columnas según el documento que adjunto\n",
    "nuevos_nombres = {\n",
    "    'NCM': 'NCM_8_digitos',\n",
    "    'Porg': 'Pais_Origen_Cod',\n",
    "    'Pnet(kg)': 'Peso_Neto_kg',\n",
    "    'FOB (USD)': 'Valor_FOB_USD',\n",
    "    'Flete (USD)': 'Flete_USD',\n",
    "    'Seguro (USD)': 'Seguro_USD',\n",
    "    'CIF (USD)': 'Valor_CIF_USD' # Esta será la variable objetivo (Target)\n",
    "}\n",
    "\n",
    "df.rename(columns=nuevos_nombres, inplace=True)\n",
    "print(\"Columnas renombradas:\")\n",
    "print(df.columns.tolist())"
   ]
  },
  {
   "cell_type": "markdown",
   "id": "ca7bd975-6c0e-4168-baca-ab7b3f25fc9f",
   "metadata": {},
   "source": [
    "## b-Revisar tipos de datos"
   ]
  },
  {
   "cell_type": "code",
   "execution_count": 15,
   "id": "b2c8c045-d912-4301-8795-ed92b213b350",
   "metadata": {},
   "outputs": [
    {
     "name": "stdout",
     "output_type": "stream",
     "text": [
      "\n",
      "Tipos de datos actualizados:\n",
      "Año                  int64\n",
      "mes                  int64\n",
      "NCM_8_digitos       object\n",
      "Pais_Origen_Cod     object\n",
      "Peso_Neto_kg       float64\n",
      "FOB(USD)           float64\n",
      "Flete(USD)         float64\n",
      "Seguro(USD)        float64\n",
      "CIF(USD)           float64\n",
      "dtype: object\n"
     ]
    }
   ],
   "source": [
    "# Convertir NCM_8_digitos y País_Origen_Cod a enteros/cadenas para asegurar el formato\n",
    "df['NCM_8_digitos'] = df['NCM_8_digitos'].astype(str).str.zfill(8) # Asegurar 8 dígitos con ceros a la izquierda\n",
    "df['Pais_Origen_Cod'] = df['Pais_Origen_Cod'].astype(str).str.zfill(3) # Código del país\n",
    "df['Año'] = df['Año'].astype(int)\n",
    "df['mes'] = df['mes'].astype(int)\n",
    "\n",
    "# Verificar si las columnas de valor son numéricas (deberían serlo si la carga fue correcta)\n",
    "print(\"\\nTipos de datos actualizados:\")\n",
    "print(df.dtypes)"
   ]
  },
  {
   "cell_type": "markdown",
   "id": "ee8831bb-5ab6-4231-82a2-d10e66c2e4b4",
   "metadata": {},
   "source": [
    "# MANEJO DE DATOS FALTANTES (NaN) Y ATIPICOS\n",
    "## a-Valores nulos (NaN)\n",
    "\n",
    "### Es raro encontrar NaN en este dataset, pero si aparecen en las columnas de valor, lo más seguro es reemplazarlos por cero (0), asumiendo que un valor faltante significa que el costo no aplicó o fue cero en ese registro."
   ]
  },
  {
   "cell_type": "code",
   "execution_count": 17,
   "id": "47c8def1-e644-4731-8e9a-80be4b41ef47",
   "metadata": {},
   "outputs": [
    {
     "name": "stdout",
     "output_type": "stream",
     "text": [
      "\n",
      "Conteo de valores nulos después de la limpieza: \n",
      "Año                0\n",
      "mes                0\n",
      "NCM_8_digitos      0\n",
      "Pais_Origen_Cod    0\n",
      "Peso_Neto_kg       0\n",
      "FOB(USD)           0\n",
      "Flete(USD)         0\n",
      "Seguro(USD)        0\n",
      "CIF(USD)           0\n",
      "dtype: int64\n"
     ]
    }
   ],
   "source": [
    "columnas_valor = ['Peso_Neto_kg', 'FOB(USD)', 'Flete(USD)', 'Seguro(USD)', 'CIF(USD)']\n",
    "\n",
    "# Rellenar valores nulos con 0 en las columnas de valor\n",
    "df[columnas_valor] = df[columnas_valor].fillna(0)\n",
    "\n",
    "print(f\"\\nConteo de valores nulos después de la limpieza: \\n{df.isnull().sum()}\")"
   ]
  },
  {
   "cell_type": "markdown",
   "id": "acbd8c38-a57e-418b-ac2d-4c1df2849f07",
   "metadata": {},
   "source": [
    "## b-Registros irrelevantes o cero\n",
    "\n",
    "### En comercio exterior, es común tener registros donde el Valor CIF es positivo, pero el Peso Neto es cero. Esto ocurre con productos digitales (software, licencias) o bienes de poco peso/alto valor.\n",
    "### Para un análisis de valor, se pueden mantener. Para modelos que dependan de la densidad o el precio por kg, hay que considerar eliminarlos o manejarlos por separado."
   ]
  },
  {
   "cell_type": "code",
   "execution_count": 20,
   "id": "8273a47b-7655-48d4-b5b1-ce0ea8704202",
   "metadata": {},
   "outputs": [
    {
     "name": "stdout",
     "output_type": "stream",
     "text": [
      "\n",
      "Total de registros originales: 347874\n",
      "Total de registros limpios (CIF o FOB > 0): 347874\n"
     ]
    }
   ],
   "source": [
    "# Filtrar registros donde todas las variables de valor sean cero, ya que no aportan a un modelo de predicción.\n",
    "df_limpio = df[\n",
    "    (df['CIF(USD)'] > 0) | \n",
    "    (df['FOB(USD)'] > 0)\n",
    "].copy()\n",
    "\n",
    "# Opcional: Aislar registros de Peso Neto 0\n",
    "# Si queremos hacer un análisis posterior de alto valor/cero peso\n",
    "df_alto_valor_cero_peso = df_limpio[df_limpio['Peso_Neto_kg'] == 0].copy()\n",
    "\n",
    "print(f\"\\nTotal de registros originales: {len(df)}\")\n",
    "print(f\"Total de registros limpios (CIF o FOB > 0): {len(df_limpio)}\")"
   ]
  },
  {
   "cell_type": "markdown",
   "id": "2a3fd795-01a4-40c4-b5a0-f51311d3a837",
   "metadata": {},
   "source": [
    "# CREACION DE VARIABLES\n",
    "### Crearemos las variables auxiliares más útiles para cualquier modelo predictivo en comercio exterior: el precio unitario (por kg) y el costo logístico como porcentaje.\n",
    "\n",
    "## a-Precio unitario (USD/KG)\n",
    "### (Esta es una métrica clave para el ML, ya que le enseña al modelo el \"valor intrínseco\" del producto.)"
   ]
  },
  {
   "cell_type": "code",
   "execution_count": 23,
   "id": "d29adc98-0841-4be4-a450-84cbdbc51f37",
   "metadata": {},
   "outputs": [],
   "source": [
    "# Evitar división por cero: si Peso_Neto_kg es 0, el Precio_Unitario será NaN.\n",
    "# Si es 0, podemos asignar un valor muy alto para modelarlo como atípico, o simplemente dejarlo NaN.\n",
    "# En este caso, lo dejamos NaN y lo gestionamos luego.\n",
    "\n",
    "df_limpio['Precio_Unitario_USD_kg'] = df_limpio['FOB(USD)'] / df_limpio['Peso_Neto_kg']\n",
    "\n",
    "# Rellenamos los NaN generados (donde Peso_Neto_kg era 0) con un valor que represente su valor único,\n",
    "# como el valor FOB mismo (es decir, el costo por unidad es su costo total) o simplemente 0, \n",
    "# dependiendo de cómo se trate el subconjunto de \"cero peso\".\n",
    "\n",
    "# Usaremos un gran número (como el máximo) o simplemente 0. Vamos con 0 por simplicidad, \n",
    "# asumiendo que los registros con peso 0 se analizan por separado o se excluyen de este cálculo.\n",
    "df_limpio['Precio_Unitario_USD_kg'] = df_limpio['Precio_Unitario_USD_kg'].fillna(0)"
   ]
  },
  {
   "cell_type": "markdown",
   "id": "d4bd44e9-d3cf-4a54-b63c-38a56e233356",
   "metadata": {},
   "source": [
    "## b-Creación de categorías NCM\n",
    "\n",
    "### Agruparemos el NCM de 8 dígitos en categorías de 2 y 4 dígitos, lo cual es útil para análisis y modelos más amplios."
   ]
  },
  {
   "cell_type": "code",
   "execution_count": 24,
   "id": "66c8ab28-f7e7-484d-b291-36c629edb7d5",
   "metadata": {},
   "outputs": [],
   "source": [
    "# NCM de 2 dígitos (Capítulo)\n",
    "df_limpio['NCM_2_digitos'] = df_limpio['NCM_8_digitos'].str[:2]\n",
    "\n",
    "# NCM de 4 dígitos (Partida)\n",
    "df_limpio['NCM_4_digitos'] = df_limpio['NCM_8_digitos'].str[:4]"
   ]
  },
  {
   "cell_type": "markdown",
   "id": "f5920995-c8cb-46cc-94f6-ff4efd510261",
   "metadata": {},
   "source": [
    "# RESULTADO FINAL\n",
    "\n",
    "## El dataset df_limpio está ahora preparado: tienes la variable objetivo (CIF(USD)), features de valor (FOB(USD)), Flete(USD)), features categóricas (NCM_8_digitos, Pais_Origen_Cod) y features de tiempo (año, Mes)."
   ]
  },
  {
   "cell_type": "code",
   "execution_count": 25,
   "id": "b83c1804-d876-4404-b010-85eed89d9b52",
   "metadata": {},
   "outputs": [
    {
     "name": "stdout",
     "output_type": "stream",
     "text": [
      "\n",
      "DataFrame Limpio y Preparado (Primeras filas):\n",
      "    Año  mes NCM_8_digitos Pais_Origen_Cod  Peso_Neto_kg  FOB(USD)  \\\n",
      "0  2024    1      01012100             200         500.0   6000.00   \n",
      "1  2024    1      01012100             212        2500.0  19500.00   \n",
      "2  2024    1      01012100             417         300.0  33490.76   \n",
      "3  2024    1      01012900             200         450.0   5000.00   \n",
      "4  2024    1      01012900             423        1000.0   9800.00   \n",
      "\n",
      "   Flete(USD)  Seguro(USD)  CIF(USD)  Precio_Unitario_USD_kg NCM_2_digitos  \\\n",
      "0     3500.00        47.50   9547.50               12.000000            01   \n",
      "1    26000.01       455.01  45955.02                7.800000            01   \n",
      "2     3256.80       367.48  37115.04              111.635867            01   \n",
      "3     2500.00        75.00   7575.00               11.111111            01   \n",
      "4     6513.60       168.27  16481.87                9.800000            01   \n",
      "\n",
      "  NCM_4_digitos  \n",
      "0          0101  \n",
      "1          0101  \n",
      "2          0101  \n",
      "3          0101  \n",
      "4          0101  \n",
      "\n",
      "El DataFrame final tiene 347874 registros y 12 columnas.\n"
     ]
    }
   ],
   "source": [
    "print(\"\\nDataFrame Limpio y Preparado (Primeras filas):\")\n",
    "print(df_limpio.head())\n",
    "print(f\"\\nEl DataFrame final tiene {len(df_limpio)} registros y {len(df_limpio.columns)} columnas.\")\n",
    "\n",
    "# Guía para el próximo paso: guardar el dataset limpio\n",
    "# df_limpio.to_csv('importaciones_limpio_para_ml.csv', index=False)"
   ]
  },
  {
   "cell_type": "markdown",
   "id": "c133ec3c-ad0b-41ac-848f-0564fa111134",
   "metadata": {},
   "source": [
    "# GUARDO EL ARCHIVO PARA PROXIMO PASO DE ANALISIS EXPLORATORIO DE DATOS (EDA)"
   ]
  },
  {
   "cell_type": "code",
   "execution_count": 26,
   "id": "689d9b73-8c2f-444a-8592-d0cf5573caea",
   "metadata": {},
   "outputs": [
    {
     "name": "stdout",
     "output_type": "stream",
     "text": [
      "✅ ¡Dataset limpio guardado con éxito como 'impom24_listo_para_EDA.csv'!\n",
      "Ya se puede empezar con el Análisis Exploratorio de Datos (EDA) en un nuevo notebook.\n"
     ]
    }
   ],
   "source": [
    "# Guardo el DataFrame limpio en un nuevo archivo CSV\n",
    "nombre_archivo_salida = 'impom24_listo_para_EDA.csv'\n",
    "\n",
    "# index=False evita que Pandas guarde la columna de índice numérico por defecto\n",
    "# decimal='.' es el estándar para CSVs si planeamos usarlo en otros softwares de ML\n",
    "df_limpio.to_csv(nombre_archivo_salida, index=False, decimal='.')\n",
    "\n",
    "print(f\"✅ ¡Dataset limpio guardado con éxito como '{nombre_archivo_salida}'!\")\n",
    "print(\"Ya se puede empezar con el Análisis Exploratorio de Datos (EDA) en un nuevo notebook.\")"
   ]
  },
  {
   "cell_type": "code",
   "execution_count": null,
   "id": "f8e0c96f-1814-41b3-abac-ccf218ea512f",
   "metadata": {},
   "outputs": [],
   "source": []
  }
 ],
 "metadata": {
  "kernelspec": {
   "display_name": "Python 3 (ipykernel)",
   "language": "python",
   "name": "python3"
  },
  "language_info": {
   "codemirror_mode": {
    "name": "ipython",
    "version": 3
   },
   "file_extension": ".py",
   "mimetype": "text/x-python",
   "name": "python",
   "nbconvert_exporter": "python",
   "pygments_lexer": "ipython3",
   "version": "3.13.5"
  }
 },
 "nbformat": 4,
 "nbformat_minor": 5
}
